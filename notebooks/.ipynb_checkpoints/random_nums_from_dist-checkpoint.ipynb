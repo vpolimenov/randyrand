{
 "cells": [
  {
   "cell_type": "code",
   "execution_count": 9,
   "metadata": {},
   "outputs": [],
   "source": [
    "import numpy as np\n",
    "\n",
    "import os\n",
    "import sys\n",
    "module_path = os.path.abspath(os.path.join('../'))\n",
    "if module_path not in sys.path:\n",
    "    sys.path.append(module_path)\n",
    "\n",
    "from randyrand.random_class import GetRandomNums"
   ]
  },
  {
   "cell_type": "markdown",
   "metadata": {},
   "source": [
    "## get_random simple function:"
   ]
  },
  {
   "cell_type": "code",
   "execution_count": 2,
   "metadata": {},
   "outputs": [],
   "source": [
    "def get_random(n_samples=10, distribution='normal', mu=0, sigma=0.1, interval=5, trials=10, prob=.5):\n",
    "    if distribution == 'normal':\n",
    "        print(f'Paramters: ')\n",
    "        print(f'samples: {n_samples}, distribution: {distribution}, mu: {mu}, sigma: {sigma}')\n",
    "        return np.random.normal(mu, sigma, n_samples)\n",
    "    elif distribution == 'poisson':\n",
    "        print(f'Paramters: ')\n",
    "        print(f'samples: {n_samples}, distribution: {distribution}, interval: {interval}')\n",
    "        return np.random.poisson(interval, n_samples)\n",
    "    elif distribution == 'binomial':\n",
    "        print(f'Paramters: ')\n",
    "        print(f'samples: {n_samples}, distribution: {distribution}, trials: {trials}, prob: {prob}')\n",
    "        return np.random.binomial(trials, prob, n_samples)\n",
    "    else:\n",
    "        print(f'Paramters: ')\n",
    "        print(f'samples: {n_samples}, distribution: {distribution}')\n",
    "        return \"Distribution not supported!\""
   ]
  },
  {
   "cell_type": "code",
   "execution_count": 3,
   "metadata": {},
   "outputs": [
    {
     "name": "stdout",
     "output_type": "stream",
     "text": [
      "Paramters: \n",
      "samples: 5, distribution: normal, mu: 0, sigma: 0.4\n"
     ]
    },
    {
     "data": {
      "text/plain": [
       "array([-0.60367105, -0.59711091,  0.32772432,  0.02498374, -0.06856117])"
      ]
     },
     "execution_count": 3,
     "metadata": {},
     "output_type": "execute_result"
    }
   ],
   "source": [
    "get_random(n_samples=5, distribution='normal', mu=0, sigma=0.4)"
   ]
  },
  {
   "cell_type": "code",
   "execution_count": 4,
   "metadata": {},
   "outputs": [
    {
     "name": "stdout",
     "output_type": "stream",
     "text": [
      "Paramters: \n",
      "samples: 5, distribution: poisson, interval: 10\n"
     ]
    },
    {
     "data": {
      "text/plain": [
       "array([5, 9, 9, 5, 9])"
      ]
     },
     "execution_count": 4,
     "metadata": {},
     "output_type": "execute_result"
    }
   ],
   "source": [
    "get_random(n_samples=5, distribution='poisson', interval=10)"
   ]
  },
  {
   "cell_type": "code",
   "execution_count": 5,
   "metadata": {},
   "outputs": [
    {
     "name": "stdout",
     "output_type": "stream",
     "text": [
      "Paramters: \n",
      "samples: 5, distribution: binomial, trials: 5, prob: 0.6\n"
     ]
    },
    {
     "data": {
      "text/plain": [
       "array([3, 3, 3, 3, 4])"
      ]
     },
     "execution_count": 5,
     "metadata": {},
     "output_type": "execute_result"
    }
   ],
   "source": [
    "get_random(n_samples=5, distribution='binomial', trials=5, prob=.6)"
   ]
  },
  {
   "cell_type": "code",
   "execution_count": 6,
   "metadata": {},
   "outputs": [
    {
     "name": "stdout",
     "output_type": "stream",
     "text": [
      "Paramters: \n",
      "samples: 5, distribution: multinomial\n"
     ]
    },
    {
     "data": {
      "text/plain": [
       "'Distribution not supported!'"
      ]
     },
     "execution_count": 6,
     "metadata": {},
     "output_type": "execute_result"
    }
   ],
   "source": [
    "get_random(n_samples=5, distribution='multinomial')"
   ]
  },
  {
   "cell_type": "markdown",
   "metadata": {},
   "source": [
    "## GetRandomNums class:"
   ]
  },
  {
   "cell_type": "code",
   "execution_count": 7,
   "metadata": {},
   "outputs": [],
   "source": [
    "class GetRandomNums(object):\n",
    "    def __init__(self, n_samples, distribution, mu=0, sigma=0.1, interval=5, trials=10, prob=.5, draw=[]):\n",
    "        self.n_samples = n_samples\n",
    "        self.distribution = distribution\n",
    "        self.mu = mu\n",
    "        self.sigma = sigma\n",
    "        self.interval = interval\n",
    "        self.trials = trials\n",
    "        self.prob = prob\n",
    "        self._draw = draw\n",
    "        \n",
    "    def normal_dist(self, mu, sigma):\n",
    "        return np.random.normal(mu, sigma, self.n_samples)\n",
    "    \n",
    "    def poisson_dist(self, interval):\n",
    "        return np.random.poisson(interval, self.n_samples)\n",
    "    \n",
    "    def binomial_dist(self, trials, prob):\n",
    "        return np.random.binomial(trials, prob, self.n_samples)\n",
    "    \n",
    "    def draw(self):\n",
    "        if self.distribution == 'normal':\n",
    "            print(f'''Parameters of the draw: \\n\n",
    "                samples size: {self.n_samples} \\n\n",
    "                distribution: {self.distribution} \\n\n",
    "                mu: {self.mu} \\n\n",
    "                sigma: {self.sigma}\n",
    "            ''')\n",
    "            \n",
    "            self._draw = self.normal_dist(self.mu, self.sigma)\n",
    "            return self._draw\n",
    "        elif self.distribution == 'poisson':\n",
    "            print(f'''Parameters of the draw: \\n\n",
    "                samples size: {self.n_samples} \\n\n",
    "                distribution: {self.distribution} \\n\n",
    "                interval: {self.interval} \\n\n",
    "            ''')\n",
    "            \n",
    "            self._draw = self.poisson_dist(self.interval)\n",
    "            return self._draw\n",
    "        elif self.distribution == 'binomial':\n",
    "            print(f'''Parameters of the draw: \\n\n",
    "                samples size: {self.n_samples} \\n\n",
    "                distribution: {self.distribution} \\n\n",
    "                trials: {self.trials} \\n\n",
    "                prob: {self.prob}\n",
    "            ''')\n",
    "            self._draw = self.binomial_dist(self.trials, self.prob)\n",
    "            return self._draw\n",
    "        else:\n",
    "            print(f'''Parameters of the draw: \\n\n",
    "                samples size: {self.n_samples} \\n\n",
    "                distribution: {self.distribution} \\n\n",
    "            ''')\n",
    "            \n",
    "            return \"Distribution not supported!\"\n",
    "        \n",
    "    def summarize(self):\n",
    "        if len(self._draw) == 0:\n",
    "            return 'Please draw a random sample first!'\n",
    "        random_sample = self._draw\n",
    "        rnd_sample_min = np.min(random_sample)\n",
    "        rnd_sample_max = np.max(random_sample)\n",
    "        rnd_sample_mean = np.mean(random_sample)\n",
    "        rnd_sample_std = np.std(random_sample)\n",
    "        \n",
    "        return f'min: {rnd_sample_min}, max: {rnd_sample_max}, mean: {rnd_sample_mean}, std: {rnd_sample_std}'"
   ]
  },
  {
   "cell_type": "code",
   "execution_count": 8,
   "metadata": {},
   "outputs": [
    {
     "data": {
      "text/plain": [
       "'Please draw a random sample first!'"
      ]
     },
     "execution_count": 8,
     "metadata": {},
     "output_type": "execute_result"
    }
   ],
   "source": [
    "summ = GetRandomNums(n_samples = 5, distribution = 'normal')\n",
    "summ.summarize()"
   ]
  },
  {
   "cell_type": "code",
   "execution_count": 9,
   "metadata": {},
   "outputs": [
    {
     "name": "stdout",
     "output_type": "stream",
     "text": [
      "Parameters of the draw: \n",
      "\n",
      "                samples size: 5 \n",
      "\n",
      "                distribution: normal \n",
      "\n",
      "                mu: 0 \n",
      "\n",
      "                sigma: 0.1\n",
      "            \n",
      "[ 0.04172006  0.0923807   0.02645455 -0.00710711 -0.00346559]\n"
     ]
    },
    {
     "data": {
      "text/plain": [
       "'min: -0.00710710701999073, max: 0.09238069884665677, mean: 0.029996522979300562, std: 0.03616120772612344'"
      ]
     },
     "execution_count": 9,
     "metadata": {},
     "output_type": "execute_result"
    }
   ],
   "source": [
    "rand1 = GetRandomNums(n_samples = 5, distribution = 'normal')\n",
    "print(rand1.draw())\n",
    "rand1.summarize()"
   ]
  },
  {
   "cell_type": "code",
   "execution_count": 10,
   "metadata": {},
   "outputs": [
    {
     "name": "stdout",
     "output_type": "stream",
     "text": [
      "Parameters of the draw: \n",
      "\n",
      "                samples size: 5 \n",
      "\n",
      "                distribution: poisson \n",
      "\n",
      "                interval: 5 \n",
      "\n",
      "            \n",
      "[1 5 7 4 8]\n"
     ]
    },
    {
     "data": {
      "text/plain": [
       "'min: 1, max: 8, mean: 5.0, std: 2.449489742783178'"
      ]
     },
     "execution_count": 10,
     "metadata": {},
     "output_type": "execute_result"
    }
   ],
   "source": [
    "rand2 = GetRandomNums(n_samples = 5, distribution = 'poisson')\n",
    "print(rand2.draw())\n",
    "rand2.summarize()"
   ]
  },
  {
   "cell_type": "code",
   "execution_count": 11,
   "metadata": {},
   "outputs": [
    {
     "name": "stdout",
     "output_type": "stream",
     "text": [
      "Parameters of the draw: \n",
      "\n",
      "                samples size: 5 \n",
      "\n",
      "                distribution: binomial \n",
      "\n",
      "                trials: 10 \n",
      "\n",
      "                prob: 0.5\n",
      "            \n",
      "[3 6 2 7 2]\n"
     ]
    },
    {
     "data": {
      "text/plain": [
       "'min: 2, max: 7, mean: 4.0, std: 2.0976176963403033'"
      ]
     },
     "execution_count": 11,
     "metadata": {},
     "output_type": "execute_result"
    }
   ],
   "source": [
    "rand3 = GetRandomNums(n_samples = 5, distribution = 'binomial')\n",
    "print(rand3.draw())\n",
    "rand3.summarize()"
   ]
  },
  {
   "cell_type": "code",
   "execution_count": 12,
   "metadata": {},
   "outputs": [
    {
     "name": "stdout",
     "output_type": "stream",
     "text": [
      "Parameters of the draw: \n",
      "\n",
      "                samples size: 5 \n",
      "\n",
      "                distribution: multinomial \n",
      "\n",
      "            \n",
      "Distribution not supported!\n"
     ]
    },
    {
     "data": {
      "text/plain": [
       "'Please draw a random sample first!'"
      ]
     },
     "execution_count": 12,
     "metadata": {},
     "output_type": "execute_result"
    }
   ],
   "source": [
    "rand4 = GetRandomNums(n_samples = 5, distribution = 'multinomial')\n",
    "print(rand4.draw())\n",
    "rand4.summarize()"
   ]
  },
  {
   "cell_type": "code",
   "execution_count": 13,
   "metadata": {},
   "outputs": [
    {
     "name": "stdout",
     "output_type": "stream",
     "text": [
      "Parameters of the draw: \n",
      "\n",
      "                samples size: 5 \n",
      "\n",
      "                distribution: normal \n",
      "\n",
      "                mu: 4 \n",
      "\n",
      "                sigma: 1\n",
      "            \n",
      "[3.10469812 5.08752916 4.31424743 5.7948281  6.07260011]\n"
     ]
    },
    {
     "data": {
      "text/plain": [
       "'min: 3.1046981181658846, max: 6.072600107174173, mean: 4.874780581834363, std: 1.074607868448617'"
      ]
     },
     "execution_count": 13,
     "metadata": {},
     "output_type": "execute_result"
    }
   ],
   "source": [
    "rand5 = GetRandomNums(n_samples = 5, distribution = 'normal', mu = 4, sigma = 1)\n",
    "print(rand5.draw())\n",
    "rand5.summarize()"
   ]
  },
  {
   "cell_type": "code",
   "execution_count": null,
   "metadata": {},
   "outputs": [],
   "source": []
  }
 ],
 "metadata": {
  "kernelspec": {
   "display_name": "Python 3",
   "language": "python",
   "name": "python3"
  },
  "language_info": {
   "codemirror_mode": {
    "name": "ipython",
    "version": 3
   },
   "file_extension": ".py",
   "mimetype": "text/x-python",
   "name": "python",
   "nbconvert_exporter": "python",
   "pygments_lexer": "ipython3",
   "version": "3.6.8"
  }
 },
 "nbformat": 4,
 "nbformat_minor": 2
}
